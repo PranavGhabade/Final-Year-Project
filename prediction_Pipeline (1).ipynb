{
  "nbformat": 4,
  "nbformat_minor": 0,
  "metadata": {
    "colab": {
      "provenance": []
    },
    "kernelspec": {
      "name": "python3",
      "display_name": "Python 3"
    },
    "language_info": {
      "name": "python"
    },
    "gpuClass": "standard"
  },
  "cells": [
    {
      "cell_type": "code",
      "execution_count": null,
      "metadata": {
        "id": "-fKJY18D5-h3"
      },
      "outputs": [],
      "source": [
        "import joblib\n",
        "import pickle\n",
        "import re\n",
        "import nltk\n",
        "import pandas as pd\n",
        "import numpy as np\n",
        "from nltk.stem.porter import PorterStemmer\n",
        "from sklearn.feature_extraction.text import CountVectorizer\n",
        "from sklearn.preprocessing import LabelEncoder"
      ]
    },
    {
      "cell_type": "code",
      "source": [
        "!pip install PyPDF2"
      ],
      "metadata": {
        "colab": {
          "base_uri": "https://localhost:8080/"
        },
        "id": "CjCOKJq6h26G",
        "outputId": "9ed3d4dc-6072-4ece-ace0-a9ad50c27ab9"
      },
      "execution_count": null,
      "outputs": [
        {
          "output_type": "stream",
          "name": "stdout",
          "text": [
            "Looking in indexes: https://pypi.org/simple, https://us-python.pkg.dev/colab-wheels/public/simple/\n",
            "Requirement already satisfied: PyPDF2 in /usr/local/lib/python3.9/dist-packages (3.0.1)\n",
            "Requirement already satisfied: typing_extensions>=3.10.0.0 in /usr/local/lib/python3.9/dist-packages (from PyPDF2) (4.5.0)\n"
          ]
        }
      ]
    },
    {
      "cell_type": "code",
      "source": [
        "from PyPDF2 import PdfReader\n",
        "\n",
        "reader = PdfReader(\"/content/Shreya Dhurde resume  (1).pdf\")\n",
        "number_of_pages = len(reader.pages)\n",
        "page = reader.pages[0]\n",
        "text = page.extract_text()"
      ],
      "metadata": {
        "id": "xb1j5amrh9QH"
      },
      "execution_count": null,
      "outputs": []
    },
    {
      "cell_type": "code",
      "source": [
        "model = joblib.load('dtc_model')"
      ],
      "metadata": {
        "id": "QJPX3p096PGW"
      },
      "execution_count": null,
      "outputs": []
    },
    {
      "cell_type": "code",
      "source": [
        "nltk.download('punkt')\n",
        "nltk.download('wordnet')\n",
        "nltk.download('stopwords')"
      ],
      "metadata": {
        "colab": {
          "base_uri": "https://localhost:8080/"
        },
        "id": "ow2nO4AN8Yz9",
        "outputId": "1f1e4be0-ee2e-43cc-9a15-1ba6af70f350"
      },
      "execution_count": null,
      "outputs": [
        {
          "output_type": "stream",
          "name": "stderr",
          "text": [
            "[nltk_data] Downloading package punkt to /root/nltk_data...\n",
            "[nltk_data]   Package punkt is already up-to-date!\n",
            "[nltk_data] Downloading package wordnet to /root/nltk_data...\n",
            "[nltk_data]   Package wordnet is already up-to-date!\n",
            "[nltk_data] Downloading package stopwords to /root/nltk_data...\n",
            "[nltk_data]   Package stopwords is already up-to-date!\n"
          ]
        },
        {
          "output_type": "execute_result",
          "data": {
            "text/plain": [
              "True"
            ]
          },
          "metadata": {},
          "execution_count": 63
        }
      ]
    },
    {
      "cell_type": "code",
      "source": [
        "stemmer = nltk.stem.porter.PorterStemmer()\n",
        "def preprocess(txt):\n",
        "    txt = str(txt).lower()\n",
        "    txt = re.sub('[^a-zA-Z0-9]', ' ', txt)\n",
        "    txt = nltk.tokenize.word_tokenize(txt)\n",
        "    txt = [w for w in txt if not w in nltk.corpus.stopwords.words('english')]\n",
        "    txt = [stemmer.stem(word) for word in txt]\n",
        "    return ' '.join(txt)"
      ],
      "metadata": {
        "id": "pX6ACS0E6rL3"
      },
      "execution_count": null,
      "outputs": []
    },
    {
      "cell_type": "code",
      "source": [],
      "metadata": {
        "id": "rHb9GNjP71e_"
      },
      "execution_count": null,
      "outputs": []
    },
    {
      "cell_type": "code",
      "source": [
        "labels =['Advocate', 'Arts', 'Automation Testing', 'Blockchain',\n",
        "       'Business Analyst', 'Civil Engineer', 'Data Science', 'Database',\n",
        "       'DevOps Engineer', 'DotNet Developer', 'ETL Developer',\n",
        "       'Electrical Engineering', 'HR', 'Hadoop', 'Health and fitness',\n",
        "       'Java Developer', 'Mechanical Engineer',\n",
        "       'Network Security Engineer', 'Operations Manager', 'PMO',\n",
        "       'Python Developer', 'SAP Developer', 'Sales', 'Testing',\n",
        "       'Web Designing']\n"
      ],
      "metadata": {
        "id": "CPy_PO9J-Kh_"
      },
      "execution_count": null,
      "outputs": []
    },
    {
      "cell_type": "code",
      "source": [
        "loaded_vectorizer = pickle.load(open('vectorizer.pickle', 'rb'))\n",
        "def predict(X):\n",
        "  pred = model.predict(loaded_vectorizer.transform([X]))\n",
        "  if np.argmax(pred)>0.5:\n",
        "    print(f'Prediction:{labels[np.argmax(pred)]}')\n",
        "  else:\n",
        "    print('NO match found')\n"
      ],
      "metadata": {
        "id": "3Vi8E5NW8njI"
      },
      "execution_count": null,
      "outputs": []
    },
    {
      "cell_type": "code",
      "source": [
        "txt = \"\"\"\n",
        "\n",
        "\n",
        "SHREYA DHURDE\n",
        "E-mail shreyadhurde14@gmail.com | No +91 8767561969 | Address E1/9 Shyma heritage , keshavnagar chinchwadgoan , Pune 411033\n",
        "LinkedIn| Qwiklabs | GitHub |Certificates  \n",
        "\n",
        "EDUCATION\n",
        "DR.D Y.Patil College Engineering ,Akurdi pune\n",
        "B.E Artificial intelligence and data science SGPA 9.82\n",
        "Marathwada Mitra Mandal's junior college\n",
        "HSC 80.77%\n",
        "ALPHONSA HIGH SCHOOL , KALEWADI\n",
        "SSC 88.60%\n",
        "WORK EXPERIENCE\n",
        "Workshop Tutor at TheGirlCode .\n",
        "Educated 150 + girls with 40 HRS + Online training sessions . Conducted 20+ Workshops About \"Excel\" Single-handedly.\n",
        "\n",
        "\n",
        "\n",
        "JAN 2021 - July 2024\n",
        "\n",
        "JUNE 2019 - MARCH 2020\n",
        "\n",
        "MARCH 2017-MARCH 2018\n",
        "\n",
        "June 2022 - present\n",
        "\n",
        "Introduced various Shortcuts and techniques for Efficient use & day-to-day productivity. Mentored them to initiate their Data Analytics career.\n",
        "\n",
        "AI INTERNSHIP AT Personify [Project based ]\n",
        "Received vigorous training through various modules and live training . Created multiple AI Backend Functional modules .\n",
        "Learned various ways to implement techniques that help in Ai Automation .\n",
        "PROJECTS | OPEN- SOURCE CONTRIBUTUIONS\n",
        "T-vis project | [Ongoing]\n",
        "\n",
        "Aug 2021-march 2022\n",
        "\n",
        "Ongoing Development of an Android database system that stores the entry/exit status of staff vehicles. Coding ways make hardware systems developed with integration with software apps.\n",
        "Using firebase, working on Authention and log in.\n",
        "Recognition Of Objects with Convolution neural networks| Link\n",
        "created backend Python code for the recognition of objects. Portrayed the application of supervised Machine learning demonstrated the concept and application of CNN here.\n",
        "Hacktoberfest - open source contributions | link\n",
        "Conducted an info session on \"open source and hactoberfest\" with 200+ attendees. Actively participating in hacktoberfest from the last 2 years .\n",
        "contributed in completely various JSON files, since helping the project with completion.\n",
        "POSITIONS OF RESPONSIBILTY\n",
        "Selected as Google DSC LEAD from my institution. |link\n",
        "Elected as INTEL IoT Student Ambassador By INTEL Co-operation | link\n",
        "Started My own AI Club IASC in my institution for Ai Awareness and to build Ai driven community |link\n",
        "ACHEVIEMENTS\n",
        "1'st rank in debate competition organized by toastmasters.\n",
        "Secured 4th rank in a Debate competition conducted by TATA's KalaSagar mega event. Grabbed 1'st position in meme-o-mania conducted by GDSC.\n",
        "obtained 3 rd rank in a book review completion organized by books and beyond.\n",
        "SKILLS & INTERESRT\n",
        "Technical Skills: Python, Ai-Ml, Data Science, tensor flow, Jupyter, firebase, GCP, deep learning, Hadoop Non-Technical Skills: Leadership,Networking, Public speaking, Debate, book reviews, and Content creation, efficient in 3 languages [English, Marathi, Hindi ]\n",
        "\n",
        "\n",
        "\n",
        "\"\"\""
      ],
      "metadata": {
        "id": "Bcruq6zA_A3w"
      },
      "execution_count": null,
      "outputs": []
    },
    {
      "cell_type": "code",
      "source": [
        "clntxt = preprocess(text)\n",
        "predict(clntxt)"
      ],
      "metadata": {
        "colab": {
          "base_uri": "https://localhost:8080/"
        },
        "id": "6O_1OmyjAB9L",
        "outputId": "aa07a651-1776-4369-a98b-f013a714cbe3"
      },
      "execution_count": null,
      "outputs": [
        {
          "output_type": "stream",
          "name": "stdout",
          "text": [
            "Prediction:Database\n"
          ]
        }
      ]
    },
    {
      "cell_type": "code",
      "source": [
        "!pip install pyresparser"
      ],
      "metadata": {
        "colab": {
          "base_uri": "https://localhost:8080/"
        },
        "id": "b9VSckvuAhaR",
        "outputId": "576a3679-6265-4969-9ef1-dbf57954b167"
      },
      "execution_count": null,
      "outputs": [
        {
          "output_type": "stream",
          "name": "stdout",
          "text": [
            "Looking in indexes: https://pypi.org/simple, https://us-python.pkg.dev/colab-wheels/public/simple/\n",
            "Requirement already satisfied: pyresparser in /usr/local/lib/python3.9/dist-packages (1.0.6)\n",
            "Requirement already satisfied: pandas>=0.24.2 in /usr/local/lib/python3.9/dist-packages (from pyresparser) (1.4.4)\n",
            "Requirement already satisfied: pyrsistent>=0.15.2 in /usr/local/lib/python3.9/dist-packages (from pyresparser) (0.19.3)\n",
            "Requirement already satisfied: pytz>=2019.1 in /usr/local/lib/python3.9/dist-packages (from pyresparser) (2022.7.1)\n",
            "Requirement already satisfied: docx2txt>=0.7 in /usr/local/lib/python3.9/dist-packages (from pyresparser) (0.8)\n",
            "Requirement already satisfied: preshed>=2.0.1 in /usr/local/lib/python3.9/dist-packages (from pyresparser) (3.0.8)\n",
            "Requirement already satisfied: idna>=2.8 in /usr/local/lib/python3.9/dist-packages (from pyresparser) (3.4)\n",
            "Requirement already satisfied: cymem>=2.0.2 in /usr/local/lib/python3.9/dist-packages (from pyresparser) (2.0.7)\n",
            "Requirement already satisfied: six>=1.12.0 in /usr/local/lib/python3.9/dist-packages (from pyresparser) (1.16.0)\n",
            "Requirement already satisfied: numpy>=1.16.4 in /usr/local/lib/python3.9/dist-packages (from pyresparser) (1.22.4)\n",
            "Requirement already satisfied: blis>=0.2.4 in /usr/local/lib/python3.9/dist-packages (from pyresparser) (0.7.9)\n",
            "Requirement already satisfied: pycryptodome>=3.8.2 in /usr/local/lib/python3.9/dist-packages (from pyresparser) (3.17)\n",
            "Requirement already satisfied: spacy>=2.1.4 in /usr/local/lib/python3.9/dist-packages (from pyresparser) (2.3.5)\n",
            "Requirement already satisfied: thinc>=7.0.4 in /usr/local/lib/python3.9/dist-packages (from pyresparser) (7.4.6)\n",
            "Requirement already satisfied: srsly>=0.0.7 in /usr/local/lib/python3.9/dist-packages (from pyresparser) (1.0.6)\n",
            "Requirement already satisfied: chardet>=3.0.4 in /usr/local/lib/python3.9/dist-packages (from pyresparser) (4.0.0)\n",
            "Requirement already satisfied: certifi>=2019.6.16 in /usr/local/lib/python3.9/dist-packages (from pyresparser) (2022.12.7)\n",
            "Requirement already satisfied: wasabi>=0.2.2 in /usr/local/lib/python3.9/dist-packages (from pyresparser) (0.10.1)\n",
            "Requirement already satisfied: pdfminer.six>=20181108 in /usr/local/lib/python3.9/dist-packages (from pyresparser) (20221105)\n",
            "Requirement already satisfied: nltk>=3.4.3 in /usr/local/lib/python3.9/dist-packages (from pyresparser) (3.8.1)\n",
            "Requirement already satisfied: urllib3>=1.25.3 in /usr/local/lib/python3.9/dist-packages (from pyresparser) (1.26.15)\n",
            "Requirement already satisfied: tqdm>=4.32.2 in /usr/local/lib/python3.9/dist-packages (from pyresparser) (4.65.0)\n",
            "Requirement already satisfied: attrs>=19.1.0 in /usr/local/lib/python3.9/dist-packages (from pyresparser) (22.2.0)\n",
            "Requirement already satisfied: requests>=2.22.0 in /usr/local/lib/python3.9/dist-packages (from pyresparser) (2.27.1)\n",
            "Requirement already satisfied: python-dateutil>=2.8.0 in /usr/local/lib/python3.9/dist-packages (from pyresparser) (2.8.2)\n",
            "Requirement already satisfied: jsonschema>=3.0.1 in /usr/local/lib/python3.9/dist-packages (from pyresparser) (4.3.3)\n",
            "Requirement already satisfied: sortedcontainers>=2.1.0 in /usr/local/lib/python3.9/dist-packages (from pyresparser) (2.4.0)\n",
            "Requirement already satisfied: click in /usr/local/lib/python3.9/dist-packages (from nltk>=3.4.3->pyresparser) (8.1.3)\n",
            "Requirement already satisfied: regex>=2021.8.3 in /usr/local/lib/python3.9/dist-packages (from nltk>=3.4.3->pyresparser) (2022.10.31)\n",
            "Requirement already satisfied: joblib in /usr/local/lib/python3.9/dist-packages (from nltk>=3.4.3->pyresparser) (1.1.1)\n",
            "Requirement already satisfied: cryptography>=36.0.0 in /usr/local/lib/python3.9/dist-packages (from pdfminer.six>=20181108->pyresparser) (40.0.1)\n",
            "Requirement already satisfied: charset-normalizer>=2.0.0 in /usr/local/lib/python3.9/dist-packages (from pdfminer.six>=20181108->pyresparser) (2.0.12)\n",
            "Requirement already satisfied: murmurhash<1.1.0,>=0.28.0 in /usr/local/lib/python3.9/dist-packages (from preshed>=2.0.1->pyresparser) (1.0.9)\n",
            "Requirement already satisfied: catalogue<1.1.0,>=0.0.7 in /usr/local/lib/python3.9/dist-packages (from spacy>=2.1.4->pyresparser) (1.0.2)\n",
            "Requirement already satisfied: plac<1.2.0,>=0.9.6 in /usr/local/lib/python3.9/dist-packages (from spacy>=2.1.4->pyresparser) (1.1.3)\n",
            "Requirement already satisfied: setuptools in /usr/local/lib/python3.9/dist-packages (from spacy>=2.1.4->pyresparser) (67.6.1)\n",
            "Requirement already satisfied: cffi>=1.12 in /usr/local/lib/python3.9/dist-packages (from cryptography>=36.0.0->pdfminer.six>=20181108->pyresparser) (1.15.1)\n",
            "Requirement already satisfied: pycparser in /usr/local/lib/python3.9/dist-packages (from cffi>=1.12->cryptography>=36.0.0->pdfminer.six>=20181108->pyresparser) (2.21)\n"
          ]
        }
      ]
    },
    {
      "cell_type": "code",
      "source": [
        "!pip install spacy==2.3.5"
      ],
      "metadata": {
        "colab": {
          "base_uri": "https://localhost:8080/"
        },
        "id": "COMxuD9VIo7t",
        "outputId": "406abcf1-8926-4591-f4fd-7c3b8db21a76"
      },
      "execution_count": null,
      "outputs": [
        {
          "output_type": "stream",
          "name": "stdout",
          "text": [
            "Looking in indexes: https://pypi.org/simple, https://us-python.pkg.dev/colab-wheels/public/simple/\n",
            "Requirement already satisfied: spacy==2.3.5 in /usr/local/lib/python3.9/dist-packages (2.3.5)\n",
            "Requirement already satisfied: catalogue<1.1.0,>=0.0.7 in /usr/local/lib/python3.9/dist-packages (from spacy==2.3.5) (1.0.2)\n",
            "Requirement already satisfied: cymem<2.1.0,>=2.0.2 in /usr/local/lib/python3.9/dist-packages (from spacy==2.3.5) (2.0.7)\n",
            "Requirement already satisfied: thinc<7.5.0,>=7.4.1 in /usr/local/lib/python3.9/dist-packages (from spacy==2.3.5) (7.4.6)\n",
            "Requirement already satisfied: requests<3.0.0,>=2.13.0 in /usr/local/lib/python3.9/dist-packages (from spacy==2.3.5) (2.27.1)\n",
            "Requirement already satisfied: plac<1.2.0,>=0.9.6 in /usr/local/lib/python3.9/dist-packages (from spacy==2.3.5) (1.1.3)\n",
            "Requirement already satisfied: wasabi<1.1.0,>=0.4.0 in /usr/local/lib/python3.9/dist-packages (from spacy==2.3.5) (0.10.1)\n",
            "Requirement already satisfied: blis<0.8.0,>=0.4.0 in /usr/local/lib/python3.9/dist-packages (from spacy==2.3.5) (0.7.9)\n",
            "Requirement already satisfied: preshed<3.1.0,>=3.0.2 in /usr/local/lib/python3.9/dist-packages (from spacy==2.3.5) (3.0.8)\n",
            "Requirement already satisfied: numpy>=1.15.0 in /usr/local/lib/python3.9/dist-packages (from spacy==2.3.5) (1.22.4)\n",
            "Requirement already satisfied: tqdm<5.0.0,>=4.38.0 in /usr/local/lib/python3.9/dist-packages (from spacy==2.3.5) (4.65.0)\n",
            "Requirement already satisfied: setuptools in /usr/local/lib/python3.9/dist-packages (from spacy==2.3.5) (67.6.1)\n",
            "Requirement already satisfied: srsly<1.1.0,>=1.0.2 in /usr/local/lib/python3.9/dist-packages (from spacy==2.3.5) (1.0.6)\n",
            "Requirement already satisfied: murmurhash<1.1.0,>=0.28.0 in /usr/local/lib/python3.9/dist-packages (from spacy==2.3.5) (1.0.9)\n",
            "Requirement already satisfied: urllib3<1.27,>=1.21.1 in /usr/local/lib/python3.9/dist-packages (from requests<3.0.0,>=2.13.0->spacy==2.3.5) (1.26.15)\n",
            "Requirement already satisfied: certifi>=2017.4.17 in /usr/local/lib/python3.9/dist-packages (from requests<3.0.0,>=2.13.0->spacy==2.3.5) (2022.12.7)\n",
            "Requirement already satisfied: charset-normalizer~=2.0.0 in /usr/local/lib/python3.9/dist-packages (from requests<3.0.0,>=2.13.0->spacy==2.3.5) (2.0.12)\n",
            "Requirement already satisfied: idna<4,>=2.5 in /usr/local/lib/python3.9/dist-packages (from requests<3.0.0,>=2.13.0->spacy==2.3.5) (3.4)\n"
          ]
        }
      ]
    },
    {
      "cell_type": "code",
      "source": [
        "!pip install https://github.com/explosion/spacy-models/releases/download/en_core_web_sm-2.3.1/en_core_web_sm-2.3.1.tar.gz"
      ],
      "metadata": {
        "colab": {
          "base_uri": "https://localhost:8080/"
        },
        "id": "LwweaTCNI38_",
        "outputId": "51fb0d52-b72c-49d7-dd3c-c0a4bf9e6a84"
      },
      "execution_count": null,
      "outputs": [
        {
          "output_type": "stream",
          "name": "stdout",
          "text": [
            "Looking in indexes: https://pypi.org/simple, https://us-python.pkg.dev/colab-wheels/public/simple/\n",
            "Collecting https://github.com/explosion/spacy-models/releases/download/en_core_web_sm-2.3.1/en_core_web_sm-2.3.1.tar.gz\n",
            "  Downloading https://github.com/explosion/spacy-models/releases/download/en_core_web_sm-2.3.1/en_core_web_sm-2.3.1.tar.gz (12.0 MB)\n",
            "\u001b[2K     \u001b[90m━━━━━━━━━━━━━━━━━━━━━━━━━━━━━━━━━━━━━━━━\u001b[0m \u001b[32m12.0/12.0 MB\u001b[0m \u001b[31m69.6 MB/s\u001b[0m eta \u001b[36m0:00:00\u001b[0m\n",
            "\u001b[?25h  Preparing metadata (setup.py) ... \u001b[?25l\u001b[?25hdone\n",
            "Requirement already satisfied: spacy<2.4.0,>=2.3.0 in /usr/local/lib/python3.9/dist-packages (from en-core-web-sm==2.3.1) (2.3.5)\n",
            "Requirement already satisfied: preshed<3.1.0,>=3.0.2 in /usr/local/lib/python3.9/dist-packages (from spacy<2.4.0,>=2.3.0->en-core-web-sm==2.3.1) (3.0.8)\n",
            "Requirement already satisfied: blis<0.8.0,>=0.4.0 in /usr/local/lib/python3.9/dist-packages (from spacy<2.4.0,>=2.3.0->en-core-web-sm==2.3.1) (0.7.9)\n",
            "Requirement already satisfied: srsly<1.1.0,>=1.0.2 in /usr/local/lib/python3.9/dist-packages (from spacy<2.4.0,>=2.3.0->en-core-web-sm==2.3.1) (1.0.6)\n",
            "Requirement already satisfied: murmurhash<1.1.0,>=0.28.0 in /usr/local/lib/python3.9/dist-packages (from spacy<2.4.0,>=2.3.0->en-core-web-sm==2.3.1) (1.0.9)\n",
            "Requirement already satisfied: numpy>=1.15.0 in /usr/local/lib/python3.9/dist-packages (from spacy<2.4.0,>=2.3.0->en-core-web-sm==2.3.1) (1.22.4)\n",
            "Requirement already satisfied: setuptools in /usr/local/lib/python3.9/dist-packages (from spacy<2.4.0,>=2.3.0->en-core-web-sm==2.3.1) (67.6.1)\n",
            "Requirement already satisfied: plac<1.2.0,>=0.9.6 in /usr/local/lib/python3.9/dist-packages (from spacy<2.4.0,>=2.3.0->en-core-web-sm==2.3.1) (1.1.3)\n",
            "Requirement already satisfied: cymem<2.1.0,>=2.0.2 in /usr/local/lib/python3.9/dist-packages (from spacy<2.4.0,>=2.3.0->en-core-web-sm==2.3.1) (2.0.7)\n",
            "Requirement already satisfied: tqdm<5.0.0,>=4.38.0 in /usr/local/lib/python3.9/dist-packages (from spacy<2.4.0,>=2.3.0->en-core-web-sm==2.3.1) (4.65.0)\n",
            "Requirement already satisfied: requests<3.0.0,>=2.13.0 in /usr/local/lib/python3.9/dist-packages (from spacy<2.4.0,>=2.3.0->en-core-web-sm==2.3.1) (2.27.1)\n",
            "Requirement already satisfied: catalogue<1.1.0,>=0.0.7 in /usr/local/lib/python3.9/dist-packages (from spacy<2.4.0,>=2.3.0->en-core-web-sm==2.3.1) (1.0.2)\n",
            "Requirement already satisfied: thinc<7.5.0,>=7.4.1 in /usr/local/lib/python3.9/dist-packages (from spacy<2.4.0,>=2.3.0->en-core-web-sm==2.3.1) (7.4.6)\n",
            "Requirement already satisfied: wasabi<1.1.0,>=0.4.0 in /usr/local/lib/python3.9/dist-packages (from spacy<2.4.0,>=2.3.0->en-core-web-sm==2.3.1) (0.10.1)\n",
            "Requirement already satisfied: idna<4,>=2.5 in /usr/local/lib/python3.9/dist-packages (from requests<3.0.0,>=2.13.0->spacy<2.4.0,>=2.3.0->en-core-web-sm==2.3.1) (3.4)\n",
            "Requirement already satisfied: certifi>=2017.4.17 in /usr/local/lib/python3.9/dist-packages (from requests<3.0.0,>=2.13.0->spacy<2.4.0,>=2.3.0->en-core-web-sm==2.3.1) (2022.12.7)\n",
            "Requirement already satisfied: urllib3<1.27,>=1.21.1 in /usr/local/lib/python3.9/dist-packages (from requests<3.0.0,>=2.13.0->spacy<2.4.0,>=2.3.0->en-core-web-sm==2.3.1) (1.26.15)\n",
            "Requirement already satisfied: charset-normalizer~=2.0.0 in /usr/local/lib/python3.9/dist-packages (from requests<3.0.0,>=2.13.0->spacy<2.4.0,>=2.3.0->en-core-web-sm==2.3.1) (2.0.12)\n"
          ]
        }
      ]
    },
    {
      "cell_type": "code",
      "source": [
        "!python -m spacy download en_core_web_sm"
      ],
      "metadata": {
        "colab": {
          "base_uri": "https://localhost:8080/"
        },
        "id": "MEzaKivuMOe6",
        "outputId": "271f6582-87dc-474e-fd12-e8e998d624a8"
      },
      "execution_count": null,
      "outputs": [
        {
          "output_type": "stream",
          "name": "stdout",
          "text": [
            "Looking in indexes: https://pypi.org/simple, https://us-python.pkg.dev/colab-wheels/public/simple/\n",
            "Collecting en_core_web_sm==2.3.1\n",
            "  Downloading https://github.com/explosion/spacy-models/releases/download/en_core_web_sm-2.3.1/en_core_web_sm-2.3.1.tar.gz (12.0 MB)\n",
            "\u001b[2K     \u001b[90m━━━━━━━━━━━━━━━━━━━━━━━━━━━━━━━━━━━━━━━\u001b[0m \u001b[32m12.0/12.0 MB\u001b[0m \u001b[31m105.9 MB/s\u001b[0m eta \u001b[36m0:00:00\u001b[0m\n",
            "\u001b[?25h  Preparing metadata (setup.py) ... \u001b[?25l\u001b[?25hdone\n",
            "Requirement already satisfied: spacy<2.4.0,>=2.3.0 in /usr/local/lib/python3.9/dist-packages (from en_core_web_sm==2.3.1) (2.3.5)\n",
            "Requirement already satisfied: blis<0.8.0,>=0.4.0 in /usr/local/lib/python3.9/dist-packages (from spacy<2.4.0,>=2.3.0->en_core_web_sm==2.3.1) (0.7.9)\n",
            "Requirement already satisfied: setuptools in /usr/local/lib/python3.9/dist-packages (from spacy<2.4.0,>=2.3.0->en_core_web_sm==2.3.1) (67.6.1)\n",
            "Requirement already satisfied: cymem<2.1.0,>=2.0.2 in /usr/local/lib/python3.9/dist-packages (from spacy<2.4.0,>=2.3.0->en_core_web_sm==2.3.1) (2.0.7)\n",
            "Requirement already satisfied: wasabi<1.1.0,>=0.4.0 in /usr/local/lib/python3.9/dist-packages (from spacy<2.4.0,>=2.3.0->en_core_web_sm==2.3.1) (0.10.1)\n",
            "Requirement already satisfied: srsly<1.1.0,>=1.0.2 in /usr/local/lib/python3.9/dist-packages (from spacy<2.4.0,>=2.3.0->en_core_web_sm==2.3.1) (1.0.6)\n",
            "Requirement already satisfied: requests<3.0.0,>=2.13.0 in /usr/local/lib/python3.9/dist-packages (from spacy<2.4.0,>=2.3.0->en_core_web_sm==2.3.1) (2.27.1)\n",
            "Requirement already satisfied: thinc<7.5.0,>=7.4.1 in /usr/local/lib/python3.9/dist-packages (from spacy<2.4.0,>=2.3.0->en_core_web_sm==2.3.1) (7.4.6)\n",
            "Requirement already satisfied: catalogue<1.1.0,>=0.0.7 in /usr/local/lib/python3.9/dist-packages (from spacy<2.4.0,>=2.3.0->en_core_web_sm==2.3.1) (1.0.2)\n",
            "Requirement already satisfied: numpy>=1.15.0 in /usr/local/lib/python3.9/dist-packages (from spacy<2.4.0,>=2.3.0->en_core_web_sm==2.3.1) (1.22.4)\n",
            "Requirement already satisfied: preshed<3.1.0,>=3.0.2 in /usr/local/lib/python3.9/dist-packages (from spacy<2.4.0,>=2.3.0->en_core_web_sm==2.3.1) (3.0.8)\n",
            "Requirement already satisfied: murmurhash<1.1.0,>=0.28.0 in /usr/local/lib/python3.9/dist-packages (from spacy<2.4.0,>=2.3.0->en_core_web_sm==2.3.1) (1.0.9)\n",
            "Requirement already satisfied: plac<1.2.0,>=0.9.6 in /usr/local/lib/python3.9/dist-packages (from spacy<2.4.0,>=2.3.0->en_core_web_sm==2.3.1) (1.1.3)\n",
            "Requirement already satisfied: tqdm<5.0.0,>=4.38.0 in /usr/local/lib/python3.9/dist-packages (from spacy<2.4.0,>=2.3.0->en_core_web_sm==2.3.1) (4.65.0)\n",
            "Requirement already satisfied: charset-normalizer~=2.0.0 in /usr/local/lib/python3.9/dist-packages (from requests<3.0.0,>=2.13.0->spacy<2.4.0,>=2.3.0->en_core_web_sm==2.3.1) (2.0.12)\n",
            "Requirement already satisfied: idna<4,>=2.5 in /usr/local/lib/python3.9/dist-packages (from requests<3.0.0,>=2.13.0->spacy<2.4.0,>=2.3.0->en_core_web_sm==2.3.1) (3.4)\n",
            "Requirement already satisfied: urllib3<1.27,>=1.21.1 in /usr/local/lib/python3.9/dist-packages (from requests<3.0.0,>=2.13.0->spacy<2.4.0,>=2.3.0->en_core_web_sm==2.3.1) (1.26.15)\n",
            "Requirement already satisfied: certifi>=2017.4.17 in /usr/local/lib/python3.9/dist-packages (from requests<3.0.0,>=2.13.0->spacy<2.4.0,>=2.3.0->en_core_web_sm==2.3.1) (2022.12.7)\n",
            "\u001b[38;5;2m✔ Download and installation successful\u001b[0m\n",
            "You can now load the model via spacy.load('en_core_web_sm')\n"
          ]
        }
      ]
    },
    {
      "cell_type": "code",
      "source": [
        "from pyresparser import ResumeParser\n",
        "data = ResumeParser('/content/Shreya Dhurde resume  (1).docx').get_extracted_data()"
      ],
      "metadata": {
        "colab": {
          "base_uri": "https://localhost:8080/"
        },
        "id": "MJpKl3ziHsl8",
        "outputId": "889204a0-7dc6-4f58-881e-51b65a9cdff3"
      },
      "execution_count": null,
      "outputs": [
        {
          "output_type": "stream",
          "name": "stderr",
          "text": [
            "/usr/local/lib/python3.9/dist-packages/spacy/util.py:275: UserWarning: [W031] Model 'en_training' (0.0.0) requires spaCy v2.1 and is incompatible with the current spaCy version (2.3.5). This may lead to unexpected results or runtime errors. To resolve this, download a newer compatible model or retrain your custom model with the current spaCy version. For more details and available updates, run: python -m spacy validate\n",
            "  warnings.warn(warn_msg)\n"
          ]
        }
      ]
    },
    {
      "cell_type": "code",
      "source": [
        "data"
      ],
      "metadata": {
        "colab": {
          "base_uri": "https://localhost:8080/"
        },
        "id": "nIfOATAmH5zo",
        "outputId": "11cabe0e-4aec-4874-a7b0-590da3f68a5d"
      },
      "execution_count": null,
      "outputs": [
        {
          "output_type": "execute_result",
          "data": {
            "text/plain": [
              "{'name': 'SHREYA DHURDE E',\n",
              " 'email': 'shreyadhurde14@gmail.com',\n",
              " 'mobile_number': '8767561969',\n",
              " 'skills': ['Github',\n",
              "  'Automation',\n",
              "  'Jupyter',\n",
              "  'Hadoop',\n",
              "  'Technical',\n",
              "  'Coding',\n",
              "  'Training',\n",
              "  'Content',\n",
              "  'Json',\n",
              "  'Hardware',\n",
              "  'Open source',\n",
              "  'Ai',\n",
              "  'Engineering',\n",
              "  'Database',\n",
              "  'Android',\n",
              "  'English',\n",
              "  'Networking',\n",
              "  'Excel',\n",
              "  'System',\n",
              "  'Analytics',\n",
              "  'Python'],\n",
              " 'college_name': None,\n",
              " 'degree': None,\n",
              " 'designation': None,\n",
              " 'experience': None,\n",
              " 'company_names': None,\n",
              " 'no_of_pages': None,\n",
              " 'total_experience': 0}"
            ]
          },
          "metadata": {},
          "execution_count": 74
        }
      ]
    },
    {
      "cell_type": "code",
      "source": [],
      "metadata": {
        "id": "YdUR8o7YQuiF",
        "colab": {
          "base_uri": "https://localhost:8080/",
          "height": 243
        },
        "outputId": "8d6014c8-6fa7-41c2-d5d8-b0c691852f2a"
      },
      "execution_count": null,
      "outputs": [
        {
          "output_type": "execute_result",
          "data": {
            "text/plain": [
              "'Aniket Kachole  \\naniketkachole@gmail.com  | 8805202103  | https://www.linkedin.com/in/ani ketkachole/  \\nEducation  \\nBACHELOR OF ENGINEE RING IN ARTIFICIAL INTELLIGEN CE AND DATA SCIENCE  |            \\nJUNE 2024  | D Y PATIL COLLEG E OF ENGINEE RING,  PUNE.  \\n• CGPA – 9.61 \\nSkills & Abilities  \\n· Python  \\n· SQL  \\n· MS-Excel  \\n· Canva  · Flask  \\n· Poised under pressu re \\n· Team playe r \\n· Interpersonal and  Communication skills  \\nExperience  \\nDATA SCIENCE INT ERN | RADI X EDUCATION AL TRUST  | SEPTEMBER  2022 - OCTOBER  2022  \\n· Worked in a team to predic t the “Accident  Risk Index ” against the post codes . The insu rance firm le verage \\naccident data to understand the risk across th e geographical units. The mo del was tested using Root \\nMean Square  Error.  \\nProjec ts \\nBOOK RECOMMENDATION SYSTEM  \\nUsed a Kaggle dataset for making a machine learning based book recommendation system using three \\napproaches:  \\n1. Popularity based recommendation  \\n2. Content based recommendation  \\n3. Collaborative based  \\nAI ASSISTANT AND CALORIE MANAGER  \\nDeveloped a desktop assistant to help user automating tasks and embedded a calo rie manager . \\n \\nPosition of responsibilities  \\nMANAGEMENT LEAD  | INTEL AI STUDENTS C LUB  (PRESE NT)  \\nCONTENT RESEARCHER | BAREL Y OPINIONATED  (PRESE NT) \\nActivities and Interests  \\nNSS Vo lunte ering, Reading, Environmental Conservation  '"
            ],
            "application/vnd.google.colaboratory.intrinsic+json": {
              "type": "string"
            }
          },
          "metadata": {},
          "execution_count": 75
        }
      ]
    },
    {
      "cell_type": "code",
      "source": [],
      "metadata": {
        "id": "2mMLr_3xih-X"
      },
      "execution_count": null,
      "outputs": []
    }
  ]
}